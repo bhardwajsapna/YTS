{
 "cells": [
  {
   "cell_type": "markdown",
   "metadata": {},
   "source": [
    "# VALUE OF PI\n",
    "Calculating pi with random numbers. Here we will need to introduce the\n",
    "concept of importing libraries and using functions from them (in this case\n",
    "https://docs.python.org/3/library/random.html ).\n",
    "\n",
    "## Step 1 : Random Numbers in Python\n",
    "Python has an inbuilt module \"random\" which allows to generate numbers randomly. Following script shows how to use random module. You can run the script multiple times to see different outputs."
   ]
  },
  {
   "cell_type": "code",
   "execution_count": 2,
   "metadata": {},
   "outputs": [
    {
     "name": "stdout",
     "output_type": "stream",
     "text": [
      "0.10513631391481426\n"
     ]
    }
   ],
   "source": [
    "import random\n",
    "myNum = random.random()\n",
    "print(myNum)"
   ]
  },
  {
   "cell_type": "markdown",
   "metadata": {},
   "source": [
    "## Step 2 : Distance of point\n",
    "We take a random point i.e its x and y coordinates and find its distance from origin.\n",
    " "
   ]
  },
  {
   "cell_type": "code",
   "execution_count": 3,
   "metadata": {},
   "outputs": [
    {
     "ename": "NameError",
     "evalue": "name 'math' is not defined",
     "output_type": "error",
     "traceback": [
      "\u001b[0;31m---------------------------------------------------------------------------\u001b[0m",
      "\u001b[0;31mNameError\u001b[0m                                 Traceback (most recent call last)",
      "\u001b[0;32m<ipython-input-3-f65adb9f8fb6>\u001b[0m in \u001b[0;36m<module>\u001b[0;34m()\u001b[0m\n\u001b[1;32m      1\u001b[0m \u001b[0mx\u001b[0m \u001b[0;34m=\u001b[0m \u001b[0mrandom\u001b[0m\u001b[0;34m.\u001b[0m\u001b[0mrandom\u001b[0m\u001b[0;34m(\u001b[0m\u001b[0;34m)\u001b[0m             \u001b[0;31m# x and y coordinates of random point\u001b[0m\u001b[0;34m\u001b[0m\u001b[0m\n\u001b[1;32m      2\u001b[0m \u001b[0my\u001b[0m \u001b[0;34m=\u001b[0m \u001b[0mrandom\u001b[0m\u001b[0;34m.\u001b[0m\u001b[0mrandom\u001b[0m\u001b[0;34m(\u001b[0m\u001b[0;34m)\u001b[0m\u001b[0;34m\u001b[0m\u001b[0m\n\u001b[0;32m----> 3\u001b[0;31m \u001b[0mdist\u001b[0m \u001b[0;34m=\u001b[0m \u001b[0mmath\u001b[0m\u001b[0;34m.\u001b[0m\u001b[0msqrt\u001b[0m\u001b[0;34m(\u001b[0m\u001b[0mx\u001b[0m\u001b[0;34m**\u001b[0m\u001b[0;36m2\u001b[0m \u001b[0;34m+\u001b[0m \u001b[0my\u001b[0m\u001b[0;34m**\u001b[0m\u001b[0;36m2\u001b[0m\u001b[0;34m)\u001b[0m\u001b[0;34m\u001b[0m\u001b[0m\n\u001b[0m\u001b[1;32m      4\u001b[0m \u001b[0mprint\u001b[0m\u001b[0;34m(\u001b[0m\u001b[0mdist\u001b[0m\u001b[0;34m)\u001b[0m\u001b[0;34m\u001b[0m\u001b[0m\n",
      "\u001b[0;31mNameError\u001b[0m: name 'math' is not defined"
     ]
    }
   ],
   "source": [
    "x = random.random()\t\t# x and y coordinates of random point\n",
    "y = random.random()\n",
    "dist = math.sqrt(x**2 + y**2)\n",
    "print(dist)"
   ]
  },
  {
   "cell_type": "markdown",
   "metadata": {},
   "source": [
    "## Step 3 : Finding value of Pi\n",
    "Now we randomly generate points and see if they lie within quater circle or not.\n",
    "We count the number of points generated within quater circle and apply formula to find value of Pi."
   ]
  },
  {
   "cell_type": "code",
   "execution_count": null,
   "metadata": {},
   "outputs": [],
   "source": [
    "# script to calculate pi from random distribution of numbers\n",
    "# very slow convergence with n, the number of samples\n",
    "\n",
    "import math\n",
    "import random\n",
    "norm_less_than_one = 0    # we are going to count how many points fall within quarter circle vs square\n",
    "n = 100000000             # no of random points - needs lots as this algorithm converges very slowly\n",
    "\n",
    "for ii in range(n):\n",
    "    x = random.random()\t\t# x and y coordinates of random point\n",
    "    y = random.random()\n",
    "    if (math.sqrt(x**2 + y**2) < 1.0): \n",
    "        norm_less_than_one = norm_less_than_one + 1\n",
    "calc_pi = 4.0 * norm_less_than_one / n               # from formula i/4*pi*r**2 w/ r=1 is the area where points lie \n",
    "                                                     # within the quarter circle vs the n points that lie within \n",
    "                                                     # the square\n",
    "\n",
    "print(calc_pi)"
   ]
  }
 ],
 "metadata": {
  "kernelspec": {
   "display_name": "Python 3",
   "language": "python",
   "name": "python3"
  },
  "language_info": {
   "codemirror_mode": {
    "name": "ipython",
    "version": 3
   },
   "file_extension": ".py",
   "mimetype": "text/x-python",
   "name": "python",
   "nbconvert_exporter": "python",
   "pygments_lexer": "ipython3",
   "version": "3.6.4"
  }
 },
 "nbformat": 4,
 "nbformat_minor": 2
}
