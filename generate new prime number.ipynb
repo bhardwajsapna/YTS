{
 "cells": [
  {
   "cell_type": "markdown",
   "metadata": {},
   "source": [
    "# Problem Statement: \n",
    "Building large prime numbers with Euclid’s algorithm. Can we multiply,successively, all the first n primes and add one to obtain a larger prime number.\n",
    "\n",
    "Algorithm: Store first 100 primes in an array – multiply them all and add one. \n",
    "\n",
    "Solution steps:\n",
    "Step 1: Breaking down problems in to functions/modules\n",
    "    a)  Function to check given a number is prime or not.\n",
    "    b)  Function to generate prime numbers and store in array (here instead of 100 prime number, user can decide how many numbers)\n",
    "Step 2: Assuming both functionalities are available we will write main program\n",
    "    a)  Take input from user, how many prime numbers to be generated.\n",
    "    b)  Call function to generate these many numbers by passing value\n",
    "    c)  Print generated prime number (to know function is generating correct numbers and required numbers)\n",
    "    d)  Compute new number as defined by Euclid's algorithm\n",
    "    e)  Check newly generated number is prime or not"
   ]
  },
  {
   "cell_type": "raw",
   "metadata": {},
   "source": [
    "\n",
    "Functionality : to check given number is prime or not\n",
    "Function return : True -> if prime number\n",
    "                  False -> if not prime number  \n",
    "        \n",
    "Steps:\n",
    "    1.  Initialise divisor with 2\n",
    "    2.  find root of given number \n",
    "    3.  Check mod of number with divisor is equal to 0 or not \n",
    "        If its 0 then its not prime number stop and return false\n",
    "        else continue by incrementing divisor\n",
    "    4.  If loop is fully executed then it means there was no number between 2 to square root of given number which is factor.\n",
    "        So given number is prime number.\n"
   ]
  },
  {
   "cell_type": "code",
   "execution_count": 2,
   "metadata": {},
   "outputs": [
    {
     "name": "stdout",
     "output_type": "stream",
     "text": [
      "Enter number\n",
      "7\n"
     ]
    },
    {
     "data": {
      "text/plain": [
       "True"
      ]
     },
     "execution_count": 2,
     "metadata": {},
     "output_type": "execute_result"
    }
   ],
   "source": [
    "def check_prime_no (x):\n",
    "    divisor=2\n",
    "    #finding root\n",
    "    root_x= x ** 0.5\n",
    "    # while loop till root_x inclusive\n",
    "    while divisor <= root_x:\n",
    "        # % is mod function\n",
    "        if (x % divisor) == 0:\n",
    "            return False            \n",
    "        divisor+=1\n",
    "    return True\n",
    "\n",
    "print(\"Enter number\")\n",
    "check_prime_no (input())"
   ]
  },
  {
   "cell_type": "raw",
   "metadata": {},
   "source": [
    "Functionality : to generate required number of prime numbers\n",
    "Function return : List of prime numbers\n",
    "\n",
    "Steps:\n",
    "    1.  Initialise array with base conditions.\n",
    "    2.  Initialise newprimenumber to 5 which is next prime number.\n",
    "    3.  Run a while loop till the length of list is less than given number.\n",
    "    4.  Check newprimenumber is prime or not by passing this to check_prime_no function\n",
    "    5.  If its found to be prime then append to list of prime else skip and continue\n",
    "    6.  Increment the newprimenumber by 2 as we need to check only odd number (as evens are not prime)\n",
    "    7.  Once list is filled with required number of primes exit loop and return the list."
   ]
  },
  {
   "cell_type": "code",
   "execution_count": 3,
   "metadata": {},
   "outputs": [
    {
     "name": "stdout",
     "output_type": "stream",
     "text": [
      "How many prime number to generate\n",
      "5\n"
     ]
    },
    {
     "data": {
      "text/plain": [
       "[2, 3, 5, 7, 11]"
      ]
     },
     "execution_count": 3,
     "metadata": {},
     "output_type": "execute_result"
    }
   ],
   "source": [
    "def generate_N_primeno(given_no):\n",
    "    #initialise with base cases\n",
    "    primeno_list = [2]\n",
    "    #initialise with next prime number\n",
    "    newPrimeNumber=3 \n",
    "    while len(primeno_list) < given_no:\n",
    "        \n",
    "        if(check_prime_no(newPrimeNumber)):\n",
    "            # append will add the element to list\n",
    "            primeno_list.append(newPrimeNumber)        \n",
    "        #increment number by 2\n",
    "        newPrimeNumber+=2\n",
    "    #return the final lis of primenos\n",
    "    return primeno_list\n",
    "\n",
    "print('How many prime number to generate')\n",
    "generate_N_primeno(input())"
   ]
  },
  {
   "cell_type": "raw",
   "metadata": {},
   "source": [
    "This is main function\n",
    "steps :\n",
    "1.  Take input from user to generate required number of prime numbers\n",
    "2.  Generate these numbers using generate_N_primeno\n",
    "3.  Compute new prime number by parsing through each element in array\n",
    "4.  Now finally check then new number is prime or not and print accordingly"
   ]
  },
  {
   "cell_type": "code",
   "execution_count": 4,
   "metadata": {},
   "outputs": [
    {
     "name": "stdout",
     "output_type": "stream",
     "text": [
      "How many prime numbers to generate? (more than 2)\n",
      "4\n",
      "('Generated prime numbers are :', [2, 3, 5, 7])\n",
      "('newly generated prime no is ', 211)\n"
     ]
    }
   ],
   "source": [
    "\n",
    "print(\"How many prime numbers to generate? (more than 2)\")\n",
    "# taking user input\n",
    "given_no = input()\n",
    "# call function to generate array of prime numbers\n",
    "primeno_arr = generate_N_primeno(int(given_no))\n",
    "\n",
    "print(\"Generated prime numbers are :\",primeno_arr)\n",
    "#initialise  to  1 as we are doing multiplication\n",
    "newPrime = 1\n",
    "#use for loop to parse through all numbers in array\n",
    "for n in primeno_arr:\n",
    "    newPrime *=n\n",
    "\n",
    "newPrime+=1\n",
    "\n",
    "# pass this new number to check_prime_no to check generate new number is prime or not\n",
    "if (check_prime_no(newPrime)):\n",
    "    print(\"newly generated prime no is \", newPrime)\n",
    "else:\n",
    "    print(\"Ooops\", newPrime,\" is not prime number\")"
   ]
  },
  {
   "cell_type": "code",
   "execution_count": null,
   "metadata": {},
   "outputs": [],
   "source": []
  }
 ],
 "metadata": {
  "kernelspec": {
   "display_name": "Python 2",
   "language": "python",
   "name": "python2"
  },
  "language_info": {
   "codemirror_mode": {
    "name": "ipython",
    "version": 2
   },
   "file_extension": ".py",
   "mimetype": "text/x-python",
   "name": "python",
   "nbconvert_exporter": "python",
   "pygments_lexer": "ipython2",
   "version": "2.7.12"
  }
 },
 "nbformat": 4,
 "nbformat_minor": 2
}
