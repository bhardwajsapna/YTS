{
 "cells": [
  {
   "cell_type": "markdown",
   "metadata": {},
   "source": [
    "#Prime Numbers\n",
    "##Problem Statement \n",
    "Building large prime numbers with Euclid’s algorithm. Can we multiply,\n",
    "successively, all the first n primes and add one to obtain a larger prime\n",
    "number.\n",
    "Hint: Store first 100 primes in an array – multiply them all and add one."
   ]
  },
  {
   "cell_type": "markdown",
   "metadata": {},
   "source": [
    "#STEP 1 : To check given number is prime or not"
   ]
  },
  {
   "cell_type": "code",
   "execution_count": null,
   "metadata": {},
   "outputs": [],
   "source": [
    "x = input(\"Enter a number to check if its prime or not :\")\n",
    "\n",
    "divisor=2\n",
    "#finding root\n",
    "root_x= x ** 0.5\n",
    "# while loop till root_x inclusive\n",
    "while divisor <= root_x:\n",
    "    # % is mod function\n",
    "    if (x % divisor) == 0:\n",
    "        print(\"Given number is not prime\")\n",
    "        break\n",
    "    divisor+=1\n",
    "print(\"Given number is prime\")\n"
   ]
  },
  {
   "cell_type": "markdown",
   "metadata": {},
   "source": [
    "# STEP 2 : To generate a list of prime numbers\n",
    "Steps:\n",
    "    1.  Initialise array with base conditions.\n",
    "    2.  Initialise newprimenumber to 5 which is next prime number.\n",
    "    3.  Run a while loop till the length of list is less than given number.\n",
    "    4.  Check newprimenumber is prime or not by passing this to check_prime_no function\n",
    "    5.  If its found to be prime then append to list of prime else skip and continue\n",
    "    6.  Increment the newprimenumber by 2 as we need to check only odd number (as evens are not prime)\n",
    "    7.  Once list is filled with required number of primes exit loop and return the list.\n"
   ]
  },
  {
   "cell_type": "code",
   "execution_count": null,
   "metadata": {},
   "outputs": [],
   "source": [
    "\n",
    "list_len = input(\"How many prime numbers do you want ?\")\n",
    "\n",
    "primeno_list = [2]\n",
    "#initialise with next prime number\n",
    "newPrimeNumber=3 \n",
    "while len(primeno_list) < list_len:\n",
    "        \n",
    "    if(check_prime_no(newPrimeNumber)):\n",
    "        # append will add the element to list\n",
    "        primeno_list.append(newPrimeNumber)        \n",
    "    #increment number by 2\n",
    "    newPrimeNumber+=2\n",
    "print(primeno_list)"
   ]
  },
  {
   "cell_type": "markdown",
   "metadata": {},
   "source": [
    "# STEP 3: Generate new prime number\n",
    "steps :\n",
    "1.  Take input from user to generate required number of prime numbers\n",
    "2.  Generate these numbers using generate_N_primeno\n",
    "3.  Compute new prime number by parsing through each element in array\n",
    "4.  Now finally check then new number is prime or not and print accordingly"
   ]
  },
  {
   "cell_type": "code",
   "execution_count": null,
   "metadata": {},
   "outputs": [],
   "source": [
    "#initialise  to  1 as we are doing multiplication\n",
    "newPrime = 1\n",
    "#use for loop to parse through all numbers in array\n",
    "for n in primeno_arr:\n",
    "    newPrime *=n\n",
    "newPrime+=1\n",
    "\n",
    "print(\"Eucladian prime number is \",newPrime )"
   ]
  },
  {
   "cell_type": "markdown",
   "metadata": {},
   "source": [
    "##OPTIMISED APPROACH\n",
    "####Sieve of Eratosthenes"
   ]
  },
  {
   "cell_type": "code",
   "execution_count": null,
   "metadata": {},
   "outputs": [],
   "source": [
    "##OPTIMISED APPROACH\n",
    "# script to use sieve of eratosthenes to compute all primes upto n and then multiply\n",
    "# all of them to compute the \"euclid\" prime to prove that there is no largest prime\n",
    "\n",
    "n = 1000\n",
    "non_prime_list = []                 # initialize the list of non prime to empty\n",
    "prime_list = []                     # initialize the list of primes to empty\n",
    "for i in range(2, n+1):\n",
    "    if i not in non_prime_list:\n",
    "        #print (i,' ', end='')      # that is i is a prime\n",
    "        prime_list.append(i)        # add it to the list of primes\n",
    "        for j in range(i*i, n+1, i):  # now that we know i is a prime compute all the factors and add them \n",
    "            non_prime_list.append(j)  # non-prime list\n",
    "print(prime_list, '\\n')\n",
    "\n",
    "product = 1\n",
    "for ii in prime_list:\n",
    "    product *= ii                   # multiply all the primes upto n\n",
    "euclid_prime = product + 1          # add 1 and we get another prime\n",
    "\n",
    "print(euclid_prime)"
   ]
  }
 ],
 "metadata": {
  "kernelspec": {
   "display_name": "Python 3",
   "language": "python",
   "name": "python3"
  },
  "language_info": {
   "codemirror_mode": {
    "name": "ipython",
    "version": 3
   },
   "file_extension": ".py",
   "mimetype": "text/x-python",
   "name": "python",
   "nbconvert_exporter": "python",
   "pygments_lexer": "ipython3",
   "version": "3.6.4"
  }
 },
 "nbformat": 4,
 "nbformat_minor": 2
}
